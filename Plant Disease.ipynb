{
  "metadata": {
    "kernelspec": {
      "name": "python",
      "display_name": "Python (Pyodide)",
      "language": "python"
    },
    "language_info": {
      "name": ""
    }
  },
  "nbformat_minor": 5,
  "nbformat": 4,
  "cells": [
    {
      "id": "81574569-3a55-4dda-9375-7f5e409c73e6",
      "cell_type": "code",
      "source": "import tensorflow as tf\nfrom tensorflow.keras.preprocessing.image import ImageDataGenerator\nfrom tensorflow.keras.models import Sequential\nfrom tensorflow.keras.layers import Conv2D, MaxPooling2D, Flatten, Dense, Dropout\nfrom tensorflow.keras.optimizers import Adam\nimport matplotlib.pyplot as plt",
      "metadata": {
        "trusted": true
      },
      "outputs": [],
      "execution_count": null
    },
    {
      "id": "865ec680-e41b-4d0e-80fa-e7ecf30fbe6d",
      "cell_type": "code",
      "source": "train_dir = 'DiseaseDataSet/Disease dataset/Train'\ntest_images_dir = 'DiseaseDataSet/Disease dataset/Test'\n\ntrain_datagen = ImageDataGenerator(\n    rescale=1.0/255.0,\n    rotation_range=40,\n    width_shift_range=0.2,\n    height_shift_range=0.2,\n    shear_range=0.2,\n    zoom_range=0.2,\n    horizontal_flip=True,\n    fill_mode='nearest',\n    validation_split=0.20\n)\n\n\ntrain_generator = train_datagen.flow_from_directory(\n    train_dir,\n    target_size=(300,300),\n    batch_size=32,\n    class_mode='categorical',\n    subset='training'\n)\n\nvalidation_generator = train_datagen.flow_from_directory(\n    train_dir,\n    target_size=(300,300),\n    batch_size=32,\n    class_mode='categorical',\n    subset='validation'\n)",
      "metadata": {
        "trusted": true
      },
      "outputs": [],
      "execution_count": null
    },
    {
      "id": "d34fb5fb-4556-470f-b9a5-63fffd2640ed",
      "cell_type": "code",
      "source": "model = Sequential([\n    Conv2D(32, (3, 3), activation='relu', input_shape=(300,300, 3)),\n    MaxPooling2D((2, 2)),\n\n    Conv2D(64, (3, 3), activation='relu'),\n    MaxPooling2D((2, 2)),\n\n    Conv2D(128, (3, 3), activation='relu'),\n    MaxPooling2D((2, 2)),\n\n    Conv2D(128, (3, 3), activation='relu'),\n    MaxPooling2D((2, 2)),\n\n    Flatten(),\n    Dense(512, activation='relu'),\n    Dropout(0.5),\n    Dense(train_generator.num_classes, activation='softmax')\n])",
      "metadata": {
        "trusted": true
      },
      "outputs": [],
      "execution_count": null
    },
    {
      "id": "cdc9de27-65ce-4b12-977b-e6108bc2b9d8",
      "cell_type": "code",
      "source": "model.compile(optimizer=Adam(learning_rate=0.001),loss='categorical_crossentropy',metrics=['accuracy'])",
      "metadata": {
        "trusted": true
      },
      "outputs": [],
      "execution_count": null
    },
    {
      "id": "88b625c9-45cd-44a8-8e99-e8cb693e20c6",
      "cell_type": "code",
      "source": "from tensorflow.keras.callbacks import EarlyStopping\nearly_stopping=EarlyStopping(monitor='val_loss',patience=5,verbose=2,restore_best_weights=True)",
      "metadata": {
        "trusted": true
      },
      "outputs": [],
      "execution_count": null
    },
    {
      "id": "abae8bf6-baa1-4207-bbb6-2b2083504af5",
      "cell_type": "code",
      "source": "model.save('Plant Disease.ipynb')",
      "metadata": {
        "trusted": true
      },
      "outputs": [],
      "execution_count": null
    },
    {
      "id": "9c596b95-e4cf-44d0-b375-5922e93decb0",
      "cell_type": "code",
      "source": "plt.figure(figsize=(12, 4))\n\nplt.subplot(1, 2, 1)\nplt.plot(history.history['accuracy'])\nplt.plot(history.history['val_accuracy'])\nplt.title('Model accuracy')\nplt.ylabel('Accuracy')\nplt.xlabel('Epoch')\nplt.legend(['Train', 'Validation'], loc='upper left')\n\nplt.subplot(1, 2, 2)\nplt.plot(history.history['loss'])\nplt.plot(history.history['val_loss'])\nplt.title('Model loss')\nplt.ylabel('Loss')\nplt.xlabel('Epoch')\nplt.legend(['Train', 'Validation'], loc='upper left')\n\nplt.show()",
      "metadata": {
        "trusted": true
      },
      "outputs": [],
      "execution_count": null
    },
    {
      "id": "75a1b46b-07b0-4516-9188-3ecb33dd6f13",
      "cell_type": "code",
      "source": "model = tf.keras.models.load_model(\"Plant Disease.ipynb\")",
      "metadata": {
        "trusted": true
      },
      "outputs": [],
      "execution_count": null
    },
    {
      "id": "459353db-f752-46fc-8e2e-b6889e098b4e",
      "cell_type": "code",
      "source": "import numpy as np\ndef predict(model, img):\n    img_array = tf.keras.utils.img_to_array(images[i].numpy())\n    img_array = tf.expand_dims(img_array, 0)\n\n    predictions = model.predict(img_array)\n\n    predicted_class = class_names[np.argmax(predictions[0])]\n    confidence = round(100*(np.max(predictions[0])), 0)\n    return predicted_class, confidence",
      "metadata": {
        "trusted": true
      },
      "outputs": [],
      "execution_count": null
    },
    {
      "id": "de88b66b-4713-4d7b-aff3-ea20df73c96a",
      "cell_type": "code",
      "source": "import tensorflow as tf\nfrom tensorflow.keras.preprocessing.image import load_img, img_to_array\nimport numpy as np\nimport os\nimport matplotlib.pyplot as plt\n\nclass_labels = ['Apple___Apple_scab','Apple___Black_rot','Apple___Cedar_apple_rust','Cherry_(including_sour)___Powdery_mildew','Corn_(maize)___Cercospora_leaf_spot Gray_leaf_spot','Corn_(maize)___Common_rust_','Corn_(maize)___Northern_Leaf_Blight','Grape___Black_rot','Grape___Esca_(Black_Measles)','Orange___Haunglongbing_(Citrus_greening)','Peach___Bacterial_spot']\n\ndef preprocess_image(image_path, target_size=(300,300)):\n    img = load_img(image_path, target_size=target_size)\n    img_array = img_to_array(img)\n    img_array = np.expand_dims(img_array, axis=0)\n    img_array /= 255.0\n    return img_array\n\n\ntest_images_dir = 'DiseaseDataSet/Disease dataset/Test'\ntest_images = [os.path.join(test_images_dir, img) for img in os.listdir(test_images_dir)]\n\nplt.figure(figsize=(12, 12))\n\nfor i, image_path in enumerate(test_images[:25]):\n    img_array = preprocess_image(image_path)\n    prediction = model.predict(img_array)\n    predicted_class = class_labels[np.argmax(prediction)]\n\n    img = load_img(image_path, target_size=(224, 224))\n\n    plt.subplot(5, 5, i + 1)\n    plt.imshow(img)\n    plt.title(predicted_class)\n    plt.axis('off')\n\nplt.tight_layout()\nplt.show()",
      "metadata": {
        "trusted": true
      },
      "outputs": [],
      "execution_count": null
    },
    {
      "id": "a5fd939d-8660-42ad-850f-149957da77fa",
      "cell_type": "code",
      "source": "",
      "metadata": {
        "trusted": true
      },
      "outputs": [],
      "execution_count": null
    }
  ]
}